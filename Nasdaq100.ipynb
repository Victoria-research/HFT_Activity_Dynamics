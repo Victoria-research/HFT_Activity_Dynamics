{
  "cells": [
    {
      "cell_type": "markdown",
      "metadata": {
        "id": "view-in-github",
        "colab_type": "text"
      },
      "source": [
        "<a href=\"https://colab.research.google.com/github/Victoria-research/HFT_Activity_Dynamics/blob/main/Nasdaq100.ipynb\" target=\"_parent\"><img src=\"https://colab.research.google.com/assets/colab-badge.svg\" alt=\"Open In Colab\"/></a>"
      ]
    },
    {
      "cell_type": "code",
      "execution_count": null,
      "metadata": {
        "id": "sW5ZYbDwAl2t"
      },
      "outputs": [],
      "source": [
        "import pandas as pd\n",
        "from google.colab import drive\n",
        "import pyarrow.parquet as pq\n",
        "from pathlib import Path\n",
        "import os"
      ]
    },
    {
      "cell_type": "code",
      "execution_count": null,
      "metadata": {
        "colab": {
          "base_uri": "https://localhost:8080/"
        },
        "id": "csCPvXRcAshj",
        "outputId": "ba61f547-c9eb-407c-d6e2-cf8341e71e88"
      },
      "outputs": [
        {
          "name": "stdout",
          "output_type": "stream",
          "text": [
            "Mounted at /content/drive\n"
          ]
        }
      ],
      "source": [
        "drive.mount('/content/drive')"
      ]
    },
    {
      "cell_type": "code",
      "execution_count": null,
      "metadata": {
        "id": "NgqbMoQ8enzM"
      },
      "outputs": [],
      "source": [
        "nasdaq_0117= \"/content/drive/MyDrive/Nasdaq100_20240117.zip\""
      ]
    },
    {
      "cell_type": "markdown",
      "source": [
        "### **Nasdaq100 stocks**"
      ],
      "metadata": {
        "id": "BeRclKq5wsvI"
      }
    },
    {
      "cell_type": "code",
      "execution_count": null,
      "metadata": {
        "id": "0SEtijnzeuoJ"
      },
      "outputs": [],
      "source": [
        "stock_names = [\n",
        "    'ADBE', 'ADP', 'ABNB', 'GOOGL', 'GOOG', 'AMZN', 'AMD', 'AEP', 'AMGN', 'ADI',\n",
        "    'ANSS', 'AAPL', 'AMAT', 'ASML', 'AZN', 'TEAM', 'ADSK', 'BKR', 'BIIB', 'BKNG',\n",
        "    'AVGO', 'CDNS', 'CDW', 'CHTR', 'CTAS', 'CSCO', 'CCEP', 'CTSH', 'CMCSA', 'CEG',\n",
        "    'CPRT', 'CSGP', 'COST', 'CRWD', 'CSX', 'DDOG', 'DXCM', 'FANG', 'DLTR', 'DASH',\n",
        "    'EA', 'EXC', 'FAST', 'FTNT', 'GEHC', 'GILD', 'GFS', 'HON', 'IDXX', 'ILMN',\n",
        "    'INTC', 'INTU', 'ISRG', 'KDP', 'KLAC', 'KHC', 'LRCX', 'LULU', 'MAR', 'MRVL',\n",
        "    'MELI', 'META', 'MCHP', 'MU', 'MSFT', 'MRNA', 'MDLZ', 'MDB', 'MNST', 'NFLX',\n",
        "    'NVDA', 'NXPI', 'ORLY', 'ODFL', 'ON', 'PCAR', 'PANW', 'PAYX', 'PYPL', 'PDD',\n",
        "    'PEP', 'QCOM', 'REGN', 'ROP', 'ROST', 'SIRI', 'SPLK', 'SBUX', 'SNPS', 'TTWO',\n",
        "    'TMUS', 'TSLA', 'TXN', 'TTD', 'VRSK', 'VRTX', 'WBA', 'WBD', 'WDAY', 'XEL', 'ZS'\n",
        "]"
      ]
    },
    {
      "cell_type": "markdown",
      "source": [
        "## **Manipulate ITCH data to quantify HFT activity into HFT Cancellation to Execution Ratio, HFT Share of trades, HFT Volume Share, Hidden Share of trades, Hidden Share of Volume**"
      ],
      "metadata": {
        "id": "_8DYMh90xKbZ"
      }
    },
    {
      "cell_type": "code",
      "execution_count": null,
      "metadata": {
        "colab": {
          "background_save": true
        },
        "id": "Rhb1xPH-nOOc"
      },
      "outputs": [],
      "source": [
        "# Column names\n",
        "column_names = [\"Time\", \"Seq Num\", \"MPID\", \"BuySell\", \"CurrShares\", \"Price\", \"DelShares\", \"MsgType\", \"PriorSeq\", \"OrderLife\", \"TrID\"]\n",
        "\n",
        "# Initialize a dictionary to store results\n",
        "results_dict = {'Stock': [], 'Cancellation to Execution Ratio': [],'Volume':[],'HFT Share of Trades':[],\n",
        "                'HFT Cancellation to Execution Ratio': [], 'HFT Volume Share': [],\n",
        "                'Hidden Share of Trades': [], 'Hidden Share of Volume': []}\n",
        "\n",
        "# Loop over each stock file\n",
        "for stock_name in stock_names:\n",
        "    parquet_file_path = f'{nasdaq_0117}/{stock_name}_20240117_tick.parquet'\n",
        "\n",
        "    try:\n",
        "        table = pq.read_table(parquet_file_path)\n",
        "        df = table.to_pandas()\n",
        "\n",
        "        # Set column names\n",
        "        df.columns = column_names\n",
        "\n",
        "        # Filter data for the specified time range\n",
        "        itch_data_filter = df.query(\"Time >= 93500 & Time <= 155500\")\n",
        "\n",
        "        # Calculate metrics\n",
        "        nA = itch_data_filter['MsgType'].str.count('A').sum()\n",
        "        nC = itch_data_filter['MsgType'].str.count('C').sum()\n",
        "        nD = itch_data_filter['MsgType'].str.count('D').sum()\n",
        "        nE = itch_data_filter['MsgType'].str.count('E').sum()\n",
        "        nF = itch_data_filter['MsgType'].str.count('F').sum()\n",
        "        nP = itch_data_filter['MsgType'].str.count('P').sum()\n",
        "        nU = itch_data_filter['MsgType'].str.count('U').sum()\n",
        "        nX = itch_data_filter['MsgType'].str.count('X').sum()\n",
        "\n",
        "        cancellation_to_execution_ratio = (nD + nU + nX) / (nC + nE)\n",
        "\n",
        "        itch_data_hft = itch_data_filter.query(\"OrderLife < 0.050 and MsgType!='A' and MsgType!='F'\")\n",
        "        nCHFT = itch_data_hft['MsgType'].str.count('C').sum()\n",
        "        nDHFT = itch_data_hft['MsgType'].str.count('D').sum()\n",
        "        nEHFT = itch_data_hft['MsgType'].str.count('E').sum()\n",
        "        nUHFT = itch_data_hft['MsgType'].str.count('U').sum()\n",
        "        nXHFT = itch_data_hft['MsgType'].str.count('X').sum()\n",
        "\n",
        "        hft_cancellation_to_execution_ratio = (nDHFT + nUHFT + nXHFT) / (nCHFT + nEHFT)\n",
        "\n",
        "        Cdata = itch_data_filter.query(\"MsgType=='C'\")\n",
        "        Cvolume = Cdata['CurrShares'].sum()\n",
        "\n",
        "        CHFTdata = itch_data_filter.query(\"OrderLife < 0.050 and MsgType=='C'\")\n",
        "        CHFTvolume = CHFTdata['CurrShares'].sum()\n",
        "\n",
        "        Edata = itch_data_filter.query(\"MsgType=='E'\")\n",
        "        Evolume = Edata['CurrShares'].sum()\n",
        "\n",
        "        total_volume= Cvolume + Evolume\n",
        "\n",
        "        EHFTdata = itch_data_filter.query(\"OrderLife < 0.050 and MsgType=='E'\")\n",
        "        EHFTvolume = EHFTdata['CurrShares'].sum()\n",
        "\n",
        "        hft_volume_share = 100 * (CHFTvolume + EHFTvolume) / (Cvolume + Evolume)\n",
        "        hft_share_of_trades = 100 * (nCHFT+nEHFT)/(nC+nE)\n",
        "\n",
        "        Pdata = itch_data_filter.query(\"MsgType=='P'\")\n",
        "        Pvolume = Pdata['DelShares'].sum()\n",
        "\n",
        "        hidden_share_of_trades = 100 * nP / (nC + nE + nP)\n",
        "        hidden_share_of_volume = 100 * Pvolume / (Cvolume + Evolume + Pvolume)\n",
        "\n",
        "        # Append results to the dictionary\n",
        "        results_dict['Stock'].append(stock_name)\n",
        "        results_dict['Cancellation to Execution Ratio'].append(cancellation_to_execution_ratio)\n",
        "        results_dict['Volume'].append(total_volume)\n",
        "        results_dict['HFT Cancellation to Execution Ratio'].append(hft_cancellation_to_execution_ratio)\n",
        "        results_dict['HFT Share of Trades'].append(hft_share_of_trades)\n",
        "        results_dict['HFT Volume Share'].append(hft_volume_share)\n",
        "        results_dict['Hidden Share of Trades'].append(hidden_share_of_trades)\n",
        "        results_dict['Hidden Share of Volume'].append(hidden_share_of_volume)\n",
        "\n",
        "    except FileNotFoundError:\n",
        "        print(f'File not found: {parquet_file_path}')\n",
        "\n",
        "# Create a DataFrame from the results dictionary\n",
        "results_df = pd.DataFrame(results_dict)\n",
        "\n",
        "# Save the DataFrame to an Excel file\n",
        "excel_file_path = '/content/drive/MyDrive/Nasdaq100_20240117_Results.xlsx'\n",
        "results_df.to_excel(excel_file_path, index=False)\n",
        "\n",
        "# Print the results DataFrame\n",
        "print(\"Results DataFrame:\")\n",
        "print(results_df)\n",
        "\n",
        "# Print the path to the saved Excel file\n",
        "print(f\"\\nResults saved to: {excel_file_path}\")\n"
      ]
    }
  ],
  "metadata": {
    "colab": {
      "provenance": [],
      "authorship_tag": "ABX9TyPlgmSKKPtZgIozd7yc9S23",
      "include_colab_link": true
    },
    "kernelspec": {
      "display_name": "Python 3",
      "name": "python3"
    },
    "language_info": {
      "name": "python"
    }
  },
  "nbformat": 4,
  "nbformat_minor": 0
}